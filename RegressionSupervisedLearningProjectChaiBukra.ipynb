{
 "cells": [
  {
   "cell_type": "code",
   "execution_count": 1,
   "id": "de04ab74",
   "metadata": {},
   "outputs": [],
   "source": [
    "import numpy as np \n",
    "import pandas as pd\n",
    "import matplotlib.pyplot as plt\n",
    "import seaborn as sns"
   ]
  },
  {
   "cell_type": "code",
   "execution_count": 2,
   "id": "fd7dc152",
   "metadata": {},
   "outputs": [
    {
     "data": {
      "text/html": [
       "<div>\n",
       "<style scoped>\n",
       "    .dataframe tbody tr th:only-of-type {\n",
       "        vertical-align: middle;\n",
       "    }\n",
       "\n",
       "    .dataframe tbody tr th {\n",
       "        vertical-align: top;\n",
       "    }\n",
       "\n",
       "    .dataframe thead th {\n",
       "        text-align: right;\n",
       "    }\n",
       "</style>\n",
       "<table border=\"1\" class=\"dataframe\">\n",
       "  <thead>\n",
       "    <tr style=\"text-align: right;\">\n",
       "      <th></th>\n",
       "      <th>Unnamed: 0</th>\n",
       "      <th>Country/Region</th>\n",
       "      <th>Date</th>\n",
       "      <th>Province/State</th>\n",
       "      <th>Confirmed</th>\n",
       "      <th>Deaths</th>\n",
       "      <th>Recovered</th>\n",
       "      <th>GDP</th>\n",
       "      <th>Unemployment</th>\n",
       "      <th>CPI</th>\n",
       "    </tr>\n",
       "  </thead>\n",
       "  <tbody>\n",
       "    <tr>\n",
       "      <th>0</th>\n",
       "      <td>0</td>\n",
       "      <td>Afghanistan</td>\n",
       "      <td>2021-01-01</td>\n",
       "      <td>0</td>\n",
       "      <td>52513.0</td>\n",
       "      <td>2201.0</td>\n",
       "      <td>41727.0</td>\n",
       "      <td>1.426650e+10</td>\n",
       "      <td>11.934</td>\n",
       "      <td>NaN</td>\n",
       "    </tr>\n",
       "    <tr>\n",
       "      <th>1</th>\n",
       "      <td>1</td>\n",
       "      <td>Afghanistan</td>\n",
       "      <td>2022-01-01</td>\n",
       "      <td>0</td>\n",
       "      <td>158107.0</td>\n",
       "      <td>7356.0</td>\n",
       "      <td>0.0</td>\n",
       "      <td>1.450216e+10</td>\n",
       "      <td>14.100</td>\n",
       "      <td>NaN</td>\n",
       "    </tr>\n",
       "    <tr>\n",
       "      <th>2</th>\n",
       "      <td>2</td>\n",
       "      <td>Albania</td>\n",
       "      <td>2021-01-01</td>\n",
       "      <td>0</td>\n",
       "      <td>58316.0</td>\n",
       "      <td>1181.0</td>\n",
       "      <td>33634.0</td>\n",
       "      <td>1.793057e+10</td>\n",
       "      <td>12.473</td>\n",
       "      <td>123.448662</td>\n",
       "    </tr>\n",
       "    <tr>\n",
       "      <th>3</th>\n",
       "      <td>3</td>\n",
       "      <td>Albania</td>\n",
       "      <td>2022-01-01</td>\n",
       "      <td>0</td>\n",
       "      <td>210224.0</td>\n",
       "      <td>3217.0</td>\n",
       "      <td>0.0</td>\n",
       "      <td>1.891638e+10</td>\n",
       "      <td>11.588</td>\n",
       "      <td>131.750835</td>\n",
       "    </tr>\n",
       "    <tr>\n",
       "      <th>4</th>\n",
       "      <td>4</td>\n",
       "      <td>Algeria</td>\n",
       "      <td>2021-01-01</td>\n",
       "      <td>0</td>\n",
       "      <td>99897.0</td>\n",
       "      <td>2762.0</td>\n",
       "      <td>67395.0</td>\n",
       "      <td>1.862654e+11</td>\n",
       "      <td>13.607</td>\n",
       "      <td>166.218895</td>\n",
       "    </tr>\n",
       "  </tbody>\n",
       "</table>\n",
       "</div>"
      ],
      "text/plain": [
       "   Unnamed: 0 Country/Region        Date Province/State  Confirmed  Deaths  \\\n",
       "0           0    Afghanistan  2021-01-01              0    52513.0  2201.0   \n",
       "1           1    Afghanistan  2022-01-01              0   158107.0  7356.0   \n",
       "2           2        Albania  2021-01-01              0    58316.0  1181.0   \n",
       "3           3        Albania  2022-01-01              0   210224.0  3217.0   \n",
       "4           4        Algeria  2021-01-01              0    99897.0  2762.0   \n",
       "\n",
       "   Recovered           GDP  Unemployment         CPI  \n",
       "0    41727.0  1.426650e+10        11.934         NaN  \n",
       "1        0.0  1.450216e+10        14.100         NaN  \n",
       "2    33634.0  1.793057e+10        12.473  123.448662  \n",
       "3        0.0  1.891638e+10        11.588  131.750835  \n",
       "4    67395.0  1.862654e+11        13.607  166.218895  "
      ]
     },
     "execution_count": 2,
     "metadata": {},
     "output_type": "execute_result"
    }
   ],
   "source": [
    "## Import and copy data\n",
    "df = pd.read_csv(r'C:\\Users\\user\\Desktop\\Ecom\\AI - Ben\\פרויקט סופרוויז לרנינג\\Covid19_With_GDP_Values.csv')\n",
    "df_copy = df.copy()\n",
    "df_copy.head()\n"
   ]
  },
  {
   "cell_type": "code",
   "execution_count": 3,
   "id": "e956d919",
   "metadata": {},
   "outputs": [],
   "source": [
    "df_copy.drop(\"Province/State\",axis = 1 ,inplace = True)"
   ]
  },
  {
   "cell_type": "markdown",
   "id": "0b307126",
   "metadata": {},
   "source": [
    "# We drop the \"Province/State\" column :\n",
    "\n",
    "## Because this column represents the province of the country and this information is not relevant for calculation and prediction for the model. \n",
    "## It should be noted that in any case there is no much information in this column\n"
   ]
  },
  {
   "cell_type": "code",
   "execution_count": 4,
   "id": "2e52c624",
   "metadata": {},
   "outputs": [],
   "source": [
    "df_copy.drop(\"Unnamed: 0\",axis = 1 ,inplace = True)"
   ]
  },
  {
   "cell_type": "markdown",
   "id": "f870e3a1",
   "metadata": {},
   "source": [
    "# We drop the \"Unnamed: 0\" column :\n",
    "\n",
    "## Because we already have an Index column and there is no need to add a separate column that will show this"
   ]
  },
  {
   "cell_type": "code",
   "execution_count": 5,
   "id": "b306a496",
   "metadata": {},
   "outputs": [
    {
     "data": {
      "text/html": [
       "<div>\n",
       "<style scoped>\n",
       "    .dataframe tbody tr th:only-of-type {\n",
       "        vertical-align: middle;\n",
       "    }\n",
       "\n",
       "    .dataframe tbody tr th {\n",
       "        vertical-align: top;\n",
       "    }\n",
       "\n",
       "    .dataframe thead th {\n",
       "        text-align: right;\n",
       "    }\n",
       "</style>\n",
       "<table border=\"1\" class=\"dataframe\">\n",
       "  <thead>\n",
       "    <tr style=\"text-align: right;\">\n",
       "      <th></th>\n",
       "      <th>Country/Region</th>\n",
       "      <th>Date</th>\n",
       "      <th>Confirmed</th>\n",
       "      <th>Deaths</th>\n",
       "      <th>Recovered</th>\n",
       "      <th>GDP</th>\n",
       "      <th>Unemployment</th>\n",
       "      <th>CPI</th>\n",
       "    </tr>\n",
       "  </thead>\n",
       "  <tbody>\n",
       "    <tr>\n",
       "      <th>0</th>\n",
       "      <td>Afghanistan</td>\n",
       "      <td>2021-01-01</td>\n",
       "      <td>52513.0</td>\n",
       "      <td>2201.0</td>\n",
       "      <td>41727.0</td>\n",
       "      <td>1.426650e+10</td>\n",
       "      <td>11.934</td>\n",
       "      <td>NaN</td>\n",
       "    </tr>\n",
       "    <tr>\n",
       "      <th>1</th>\n",
       "      <td>Afghanistan</td>\n",
       "      <td>2022-01-01</td>\n",
       "      <td>158107.0</td>\n",
       "      <td>7356.0</td>\n",
       "      <td>0.0</td>\n",
       "      <td>1.450216e+10</td>\n",
       "      <td>14.100</td>\n",
       "      <td>NaN</td>\n",
       "    </tr>\n",
       "    <tr>\n",
       "      <th>2</th>\n",
       "      <td>Albania</td>\n",
       "      <td>2021-01-01</td>\n",
       "      <td>58316.0</td>\n",
       "      <td>1181.0</td>\n",
       "      <td>33634.0</td>\n",
       "      <td>1.793057e+10</td>\n",
       "      <td>12.473</td>\n",
       "      <td>123.448662</td>\n",
       "    </tr>\n",
       "    <tr>\n",
       "      <th>3</th>\n",
       "      <td>Albania</td>\n",
       "      <td>2022-01-01</td>\n",
       "      <td>210224.0</td>\n",
       "      <td>3217.0</td>\n",
       "      <td>0.0</td>\n",
       "      <td>1.891638e+10</td>\n",
       "      <td>11.588</td>\n",
       "      <td>131.750835</td>\n",
       "    </tr>\n",
       "    <tr>\n",
       "      <th>4</th>\n",
       "      <td>Algeria</td>\n",
       "      <td>2021-01-01</td>\n",
       "      <td>99897.0</td>\n",
       "      <td>2762.0</td>\n",
       "      <td>67395.0</td>\n",
       "      <td>1.862654e+11</td>\n",
       "      <td>13.607</td>\n",
       "      <td>166.218895</td>\n",
       "    </tr>\n",
       "    <tr>\n",
       "      <th>...</th>\n",
       "      <td>...</td>\n",
       "      <td>...</td>\n",
       "      <td>...</td>\n",
       "      <td>...</td>\n",
       "      <td>...</td>\n",
       "      <td>...</td>\n",
       "      <td>...</td>\n",
       "      <td>...</td>\n",
       "    </tr>\n",
       "    <tr>\n",
       "      <th>335</th>\n",
       "      <td>West Bank and Gaza</td>\n",
       "      <td>2022-01-01</td>\n",
       "      <td>469748.0</td>\n",
       "      <td>4919.0</td>\n",
       "      <td>0.0</td>\n",
       "      <td>1.916550e+10</td>\n",
       "      <td>24.420</td>\n",
       "      <td>117.301113</td>\n",
       "    </tr>\n",
       "    <tr>\n",
       "      <th>336</th>\n",
       "      <td>Zambia</td>\n",
       "      <td>2021-01-01</td>\n",
       "      <td>20997.0</td>\n",
       "      <td>390.0</td>\n",
       "      <td>18773.0</td>\n",
       "      <td>2.209642e+10</td>\n",
       "      <td>5.195</td>\n",
       "      <td>299.818966</td>\n",
       "    </tr>\n",
       "    <tr>\n",
       "      <th>337</th>\n",
       "      <td>Zambia</td>\n",
       "      <td>2022-01-01</td>\n",
       "      <td>257948.0</td>\n",
       "      <td>3740.0</td>\n",
       "      <td>0.0</td>\n",
       "      <td>2.916378e+10</td>\n",
       "      <td>5.993</td>\n",
       "      <td>332.778677</td>\n",
       "    </tr>\n",
       "    <tr>\n",
       "      <th>338</th>\n",
       "      <td>Zimbabwe</td>\n",
       "      <td>2021-01-01</td>\n",
       "      <td>14084.0</td>\n",
       "      <td>369.0</td>\n",
       "      <td>11347.0</td>\n",
       "      <td>2.837124e+10</td>\n",
       "      <td>9.540</td>\n",
       "      <td>5411.002445</td>\n",
       "    </tr>\n",
       "    <tr>\n",
       "      <th>339</th>\n",
       "      <td>Zimbabwe</td>\n",
       "      <td>2022-01-01</td>\n",
       "      <td>214214.0</td>\n",
       "      <td>5017.0</td>\n",
       "      <td>0.0</td>\n",
       "      <td>2.736663e+10</td>\n",
       "      <td>10.087</td>\n",
       "      <td>11076.601788</td>\n",
       "    </tr>\n",
       "  </tbody>\n",
       "</table>\n",
       "<p>340 rows × 8 columns</p>\n",
       "</div>"
      ],
      "text/plain": [
       "         Country/Region        Date  Confirmed  Deaths  Recovered  \\\n",
       "0           Afghanistan  2021-01-01    52513.0  2201.0    41727.0   \n",
       "1           Afghanistan  2022-01-01   158107.0  7356.0        0.0   \n",
       "2               Albania  2021-01-01    58316.0  1181.0    33634.0   \n",
       "3               Albania  2022-01-01   210224.0  3217.0        0.0   \n",
       "4               Algeria  2021-01-01    99897.0  2762.0    67395.0   \n",
       "..                  ...         ...        ...     ...        ...   \n",
       "335  West Bank and Gaza  2022-01-01   469748.0  4919.0        0.0   \n",
       "336              Zambia  2021-01-01    20997.0   390.0    18773.0   \n",
       "337              Zambia  2022-01-01   257948.0  3740.0        0.0   \n",
       "338            Zimbabwe  2021-01-01    14084.0   369.0    11347.0   \n",
       "339            Zimbabwe  2022-01-01   214214.0  5017.0        0.0   \n",
       "\n",
       "              GDP  Unemployment           CPI  \n",
       "0    1.426650e+10        11.934           NaN  \n",
       "1    1.450216e+10        14.100           NaN  \n",
       "2    1.793057e+10        12.473    123.448662  \n",
       "3    1.891638e+10        11.588    131.750835  \n",
       "4    1.862654e+11        13.607    166.218895  \n",
       "..            ...           ...           ...  \n",
       "335  1.916550e+10        24.420    117.301113  \n",
       "336  2.209642e+10         5.195    299.818966  \n",
       "337  2.916378e+10         5.993    332.778677  \n",
       "338  2.837124e+10         9.540   5411.002445  \n",
       "339  2.736663e+10        10.087  11076.601788  \n",
       "\n",
       "[340 rows x 8 columns]"
      ]
     },
     "execution_count": 5,
     "metadata": {},
     "output_type": "execute_result"
    }
   ],
   "source": [
    "df_copy"
   ]
  },
  {
   "cell_type": "code",
   "execution_count": 6,
   "id": "832fa24e",
   "metadata": {},
   "outputs": [
    {
     "data": {
      "text/plain": [
       "Country/Region    0\n",
       "Date              0\n",
       "Confirmed         0\n",
       "Deaths            0\n",
       "Recovered         0\n",
       "GDP               0\n",
       "Unemployment      0\n",
       "CPI               2\n",
       "dtype: int64"
      ]
     },
     "execution_count": 6,
     "metadata": {},
     "output_type": "execute_result"
    }
   ],
   "source": [
    "df_copy.isnull().sum()"
   ]
  },
  {
   "cell_type": "code",
   "execution_count": 7,
   "id": "b3481afb",
   "metadata": {},
   "outputs": [],
   "source": [
    "df_copy.dropna(inplace=True)"
   ]
  },
  {
   "cell_type": "code",
   "execution_count": 8,
   "id": "fd8ee71e",
   "metadata": {},
   "outputs": [
    {
     "data": {
      "text/plain": [
       "Country/Region    0\n",
       "Date              0\n",
       "Confirmed         0\n",
       "Deaths            0\n",
       "Recovered         0\n",
       "GDP               0\n",
       "Unemployment      0\n",
       "CPI               0\n",
       "dtype: int64"
      ]
     },
     "execution_count": 8,
     "metadata": {},
     "output_type": "execute_result"
    }
   ],
   "source": [
    "df_copy.isnull().sum()"
   ]
  },
  {
   "cell_type": "markdown",
   "id": "cb71c3ef",
   "metadata": {},
   "source": [
    "# We drop the the 2 none column (Afghanistan):\n",
    "## Because the amount of information is not significant for the calculation of the model (one country out of 170) and there is also no correct way to fill in the empty information"
   ]
  },
  {
   "cell_type": "code",
   "execution_count": 9,
   "id": "01ebd447",
   "metadata": {},
   "outputs": [
    {
     "data": {
      "text/html": [
       "<div>\n",
       "<style scoped>\n",
       "    .dataframe tbody tr th:only-of-type {\n",
       "        vertical-align: middle;\n",
       "    }\n",
       "\n",
       "    .dataframe tbody tr th {\n",
       "        vertical-align: top;\n",
       "    }\n",
       "\n",
       "    .dataframe thead th {\n",
       "        text-align: right;\n",
       "    }\n",
       "</style>\n",
       "<table border=\"1\" class=\"dataframe\">\n",
       "  <thead>\n",
       "    <tr style=\"text-align: right;\">\n",
       "      <th></th>\n",
       "      <th>Country/Region</th>\n",
       "      <th>Date</th>\n",
       "      <th>Confirmed</th>\n",
       "      <th>Deaths</th>\n",
       "      <th>Recovered</th>\n",
       "      <th>GDP</th>\n",
       "      <th>Unemployment</th>\n",
       "      <th>CPI</th>\n",
       "    </tr>\n",
       "  </thead>\n",
       "  <tbody>\n",
       "  </tbody>\n",
       "</table>\n",
       "</div>"
      ],
      "text/plain": [
       "Empty DataFrame\n",
       "Columns: [Country/Region, Date, Confirmed, Deaths, Recovered, GDP, Unemployment, CPI]\n",
       "Index: []"
      ]
     },
     "execution_count": 9,
     "metadata": {},
     "output_type": "execute_result"
    }
   ],
   "source": [
    "duplicate_rows = df_copy[df_copy.duplicated(keep=False)]\n",
    "duplicate_rows\n"
   ]
  },
  {
   "cell_type": "markdown",
   "id": "6c6f4767",
   "metadata": {},
   "source": [
    "## there are no duplicated rows"
   ]
  },
  {
   "cell_type": "code",
   "execution_count": 10,
   "id": "bb971cdc",
   "metadata": {},
   "outputs": [],
   "source": [
    "grouped_data = df_copy.groupby('Country/Region')\n",
    "\n",
    "numerical_columns = ['Confirmed', 'Deaths', 'Recovered', 'GDP', 'CPI']\n",
    "summed_data = grouped_data[numerical_columns].sum()\n",
    "\n",
    "mean_unemployment = grouped_data['Unemployment'].mean()\n",
    "\n",
    "# Combine results\n",
    "final_data = pd.concat([summed_data, mean_unemployment], axis=1)\n",
    "final_data.reset_index(inplace=True)"
   ]
  },
  {
   "cell_type": "code",
   "execution_count": 11,
   "id": "8f2b1090",
   "metadata": {},
   "outputs": [],
   "source": [
    "final_data.drop(\"Country/Region\",axis = 1 ,inplace = True)"
   ]
  },
  {
   "cell_type": "markdown",
   "id": "57683ff2",
   "metadata": {},
   "source": [
    "## i drop the country column Because it's not a numerical figure, and this information is not relevant for calculation and prediction for the model. "
   ]
  },
  {
   "cell_type": "code",
   "execution_count": 12,
   "id": "8f33d3c2",
   "metadata": {},
   "outputs": [
    {
     "data": {
      "text/html": [
       "<div>\n",
       "<style scoped>\n",
       "    .dataframe tbody tr th:only-of-type {\n",
       "        vertical-align: middle;\n",
       "    }\n",
       "\n",
       "    .dataframe tbody tr th {\n",
       "        vertical-align: top;\n",
       "    }\n",
       "\n",
       "    .dataframe thead th {\n",
       "        text-align: right;\n",
       "    }\n",
       "</style>\n",
       "<table border=\"1\" class=\"dataframe\">\n",
       "  <thead>\n",
       "    <tr style=\"text-align: right;\">\n",
       "      <th></th>\n",
       "      <th>Confirmed</th>\n",
       "      <th>Deaths</th>\n",
       "      <th>Recovered</th>\n",
       "      <th>GDP</th>\n",
       "      <th>CPI</th>\n",
       "      <th>Unemployment</th>\n",
       "    </tr>\n",
       "  </thead>\n",
       "  <tbody>\n",
       "    <tr>\n",
       "      <th>Confirmed</th>\n",
       "      <td>1.000000</td>\n",
       "      <td>0.898002</td>\n",
       "      <td>0.928932</td>\n",
       "      <td>0.274813</td>\n",
       "      <td>-0.040822</td>\n",
       "      <td>-0.019040</td>\n",
       "    </tr>\n",
       "    <tr>\n",
       "      <th>Deaths</th>\n",
       "      <td>0.898002</td>\n",
       "      <td>1.000000</td>\n",
       "      <td>0.858794</td>\n",
       "      <td>0.243658</td>\n",
       "      <td>-0.039189</td>\n",
       "      <td>-0.013037</td>\n",
       "    </tr>\n",
       "    <tr>\n",
       "      <th>Recovered</th>\n",
       "      <td>0.928932</td>\n",
       "      <td>0.858794</td>\n",
       "      <td>1.000000</td>\n",
       "      <td>0.204519</td>\n",
       "      <td>-0.030528</td>\n",
       "      <td>-0.001739</td>\n",
       "    </tr>\n",
       "    <tr>\n",
       "      <th>GDP</th>\n",
       "      <td>0.274813</td>\n",
       "      <td>0.243658</td>\n",
       "      <td>0.204519</td>\n",
       "      <td>1.000000</td>\n",
       "      <td>-0.021508</td>\n",
       "      <td>-0.094615</td>\n",
       "    </tr>\n",
       "    <tr>\n",
       "      <th>CPI</th>\n",
       "      <td>-0.040822</td>\n",
       "      <td>-0.039189</td>\n",
       "      <td>-0.030528</td>\n",
       "      <td>-0.021508</td>\n",
       "      <td>1.000000</td>\n",
       "      <td>0.063644</td>\n",
       "    </tr>\n",
       "    <tr>\n",
       "      <th>Unemployment</th>\n",
       "      <td>-0.019040</td>\n",
       "      <td>-0.013037</td>\n",
       "      <td>-0.001739</td>\n",
       "      <td>-0.094615</td>\n",
       "      <td>0.063644</td>\n",
       "      <td>1.000000</td>\n",
       "    </tr>\n",
       "  </tbody>\n",
       "</table>\n",
       "</div>"
      ],
      "text/plain": [
       "              Confirmed    Deaths  Recovered       GDP       CPI  Unemployment\n",
       "Confirmed      1.000000  0.898002   0.928932  0.274813 -0.040822     -0.019040\n",
       "Deaths         0.898002  1.000000   0.858794  0.243658 -0.039189     -0.013037\n",
       "Recovered      0.928932  0.858794   1.000000  0.204519 -0.030528     -0.001739\n",
       "GDP            0.274813  0.243658   0.204519  1.000000 -0.021508     -0.094615\n",
       "CPI           -0.040822 -0.039189  -0.030528 -0.021508  1.000000      0.063644\n",
       "Unemployment  -0.019040 -0.013037  -0.001739 -0.094615  0.063644      1.000000"
      ]
     },
     "execution_count": 12,
     "metadata": {},
     "output_type": "execute_result"
    }
   ],
   "source": [
    "final_data.corr()"
   ]
  },
  {
   "cell_type": "code",
   "execution_count": 13,
   "id": "ddef2070",
   "metadata": {},
   "outputs": [
    {
     "data": {
      "image/png": "[encoded data removed]",
      "text/plain": [
       "<Figure size 640x480 with 2 Axes>"
      ]
     },
     "metadata": {},
     "output_type": "display_data"
    }
   ],
   "source": [
    "sns.heatmap(final_data.corr(), cmap = \"coolwarm\")\n",
    "plt.show()"
   ]
  },
  {
   "cell_type": "markdown",
   "id": "7bb395bc",
   "metadata": {},
   "source": [
    "## As we can see there is a positive correlation between Confirmed and Deaths.\n",
    "### It makes sense because A higher number of confirmed cases typically leads to a higher number of deaths.\n",
    "\n",
    "## Also between Confirmed and Recovered but weaker.\n",
    "### it's natural to expect an increase in the number of recovered cases over time.\n",
    "\n",
    "## GDP has a negative correlation with Unemployment\n",
    "### It makes sense that there are more unemployed people and there will be less GDP\n"
   ]
  },
  {
   "cell_type": "code",
   "execution_count": 14,
   "id": "4da89f80",
   "metadata": {},
   "outputs": [],
   "source": [
    "X = final_data.drop('GDP', axis=1)\n",
    "y = final_data['GDP']\n",
    "\n",
    "# we prepare a dict that will contain all models rmse\n",
    "rmse_values = {}"
   ]
  },
  {
   "cell_type": "markdown",
   "id": "4f49bdec",
   "metadata": {},
   "source": [
    "## preprae evaluate_model function"
   ]
  },
  {
   "cell_type": "code",
   "execution_count": 15,
   "id": "52f6b074",
   "metadata": {},
   "outputs": [],
   "source": [
    "from sklearn.metrics import mean_absolute_error, mean_squared_error\n",
    "\n",
    "def evaluate_model(y_pred, model_name):\n",
    "\n",
    "    MAE_score = mean_absolute_error(y_test, y_pred)\n",
    "    MSE_score = mean_squared_error(y_test, y_pred)\n",
    "    RMSE_score = np.sqrt(MSE_score)\n",
    "\n",
    "    print(f'MAE: {MAE_score}')\n",
    "    print(f'MSE: {MSE_score}')\n",
    "    print(f'RMSE: {RMSE_score}')\n",
    "\n",
    "    rmse_values[model_name] = RMSE_score\n"
   ]
  },
  {
   "cell_type": "markdown",
   "id": "6862f94f",
   "metadata": {},
   "source": [
    "## First of all we did a train test split and then only a standard scaler so as not to expose the scaler to all the data. "
   ]
  },
  {
   "cell_type": "markdown",
   "id": "1f38d1a7",
   "metadata": {},
   "source": [
    "# LinearRegression Model With KFold\n"
   ]
  },
  {
   "cell_type": "code",
   "execution_count": 16,
   "id": "38d17b1e",
   "metadata": {},
   "outputs": [
    {
     "name": "stdout",
     "output_type": "stream",
     "text": [
      " The Min RMSE is: 655483632862.6309 and his place in the array is 2\n",
      "\n",
      " the best model Beta Coefficient we found are \n",
      " [ 1.97689190e+12  9.14930975e+10 -1.22573641e+12 -1.88747428e+10\n",
      " -2.93115016e+11]\n",
      "\n",
      " and this model Intercept is: 911423344134.8558\n"
     ]
    }
   ],
   "source": [
    "from sklearn.model_selection import KFold\n",
    "from sklearn.linear_model import LinearRegression\n",
    "from sklearn.preprocessing import StandardScaler\n",
    "\n",
    "\n",
    "kf = KFold(n_splits= 4 , shuffle=True, random_state=42)\n",
    "\n",
    "scores = []\n",
    "coefficients = []\n",
    "intercepts = []\n",
    "\n",
    "for train_index, test_index in kf.split(X):\n",
    "    X_train, X_test = X.iloc[train_index], X.iloc[test_index]\n",
    "    y_train, y_test = y.iloc[train_index], y.iloc[test_index]\n",
    "    \n",
    "    scaler = StandardScaler()\n",
    "    scaler.fit(X_train)\n",
    "    scaled_X_train = scaler.transform(X_train)\n",
    "    scaled_X_test = scaler.transform(X_test)\n",
    "\n",
    "    model = LinearRegression()\n",
    "    model.fit(scaled_X_train, y_train)\n",
    " \n",
    "    y_pred = model.predict(scaled_X_test)\n",
    "\n",
    "    MAE_score = mean_absolute_error(y_test, y_pred)\n",
    "    MSE_score = mean_squared_error(y_test, y_pred)\n",
    "    RMSE_score = np.sqrt(MSE_score)\n",
    "    scores.append(RMSE_score)\n",
    "\n",
    "    coefficients.append(model.coef_)\n",
    "    intercepts.append(model.intercept_)\n",
    "\n",
    "    \n",
    "\n",
    "best_score = min(scores)\n",
    "best_param_place_in_array = scores.index(min(scores))\n",
    "print(f\" The Min RMSE is: {best_score} and his place in the array is {best_param_place_in_array}\")\n",
    "\n",
    "print(\"\\n the best model Beta Coefficient we found are \\n\", coefficients[best_param_place_in_array])\n",
    "print(\"\\n and this model Intercept is:\", intercepts [best_param_place_in_array])\n",
    "\n",
    "rmse_values[\"LinearRegression Model With KFold\"] = best_score\n"
   ]
  },
  {
   "cell_type": "markdown",
   "id": "45b8ec8d",
   "metadata": {},
   "source": [
    "# If we want to use this excat model we can Implement this on the Basic Linear Model Equation As we learned,\n",
    "# The Equation is:\n",
    "\n",
    "## y = β0 + β1*x1 + β2*x2 + ... + βn*xn\n",
    "\n",
    "## so all we need now is to give the best param (intercept and coefficients) we found in the Equation and make new predctions.\n",
    "\n",
    "### we could preform this code for this:\n",
    "\n",
    "\n",
    "#### intercept =  intercepts[best_param_place_in_array]\n",
    "#### coefficients = coefficients[best_param_place_in_array]\n",
    "#### y_pred = intercept + np.dot(new_scaled_data_to_predict, coefficients)\n",
    "#### print(y_pred)"
   ]
  },
  {
   "cell_type": "markdown",
   "id": "b28ed1f8",
   "metadata": {},
   "source": [
    "# RidgeCV Model\n"
   ]
  },
  {
   "cell_type": "code",
   "execution_count": 17,
   "id": "66f3669c",
   "metadata": {},
   "outputs": [
    {
     "name": "stdout",
     "output_type": "stream",
     "text": [
      "MAE: 723112659167.7369\n",
      "MSE: 1.657307088030391e+24\n",
      "RMSE: 1287364395977.4524\n"
     ]
    }
   ],
   "source": [
    "from sklearn.linear_model import RidgeCV\n",
    "from sklearn.model_selection import train_test_split\n",
    "\n",
    "\n",
    "X_train, X_test, y_train, y_test = train_test_split(X, y, test_size=0.3, random_state=42)\n",
    "\n",
    "\n",
    "scaler = StandardScaler()\n",
    "scaler.fit(X_train)\n",
    "scaled_X_train = scaler.transform(X_train)\n",
    "scaled_X_test = scaler.transform(X_test)\n",
    "\n",
    "ridge_cv_model = RidgeCV(alphas=(0.1, 1.0, 10.0), scoring='neg_mean_absolute_error')\n",
    "ridge_cv_model.fit(scaled_X_train, y_train)\n",
    "\n",
    "test_predictions = ridge_cv_model.predict(scaled_X_test)\n",
    "\n",
    "evaluate_model(test_predictions, \"RidgeCV Model\")"
   ]
  },
  {
   "cell_type": "code",
   "execution_count": 18,
   "id": "593b873c",
   "metadata": {},
   "outputs": [
    {
     "name": "stdout",
     "output_type": "stream",
     "text": [
      "The optimal alpha the CV model found is 0.1\n"
     ]
    }
   ],
   "source": [
    "print(f\"The optimal alpha the CV model found is {ridge_cv_model.alpha_}\")\n"
   ]
  },
  {
   "cell_type": "code",
   "execution_count": 19,
   "id": "d0f46a4e",
   "metadata": {},
   "outputs": [
    {
     "name": "stdout",
     "output_type": "stream",
     "text": [
      "the Beta Coefficients for best Ridge model we found are: \n",
      " [ 1.39860823e+12  1.18789326e+10 -7.80125142e+11 -5.61178706e+10\n",
      " -2.88335767e+11] \n"
     ]
    }
   ],
   "source": [
    "print(f\"the Beta Coefficients for best Ridge model we found are: \\n {ridge_cv_model.coef_} \")\n"
   ]
  },
  {
   "cell_type": "markdown",
   "id": "8716ab28",
   "metadata": {},
   "source": [
    "# Now We Train a Rigde model on the optimal alpha we found"
   ]
  },
  {
   "cell_type": "code",
   "execution_count": 20,
   "id": "6820f254",
   "metadata": {},
   "outputs": [],
   "source": [
    "from sklearn.linear_model import Ridge\n",
    "\n",
    "ridge_model = Ridge(alpha=0.1)\n",
    "ridge_model.fit(scaled_X_train, y_train)\n",
    "test_predictions = ridge_model.predict(scaled_X_test)"
   ]
  },
  {
   "cell_type": "markdown",
   "id": "fb625773",
   "metadata": {},
   "source": [
    "# LassoCv Model"
   ]
  },
  {
   "cell_type": "code",
   "execution_count": 21,
   "id": "54ba39b3",
   "metadata": {},
   "outputs": [
    {
     "name": "stdout",
     "output_type": "stream",
     "text": [
      "The Optimal Alpha is : 143345826340.5767\n"
     ]
    }
   ],
   "source": [
    "from sklearn.linear_model import LassoCV\n",
    "\n",
    "\n",
    "lasso_cv_model = LassoCV(eps=0.1, n_alphas=100)\n",
    "lasso_cv_model.fit(scaled_X_train, y_train)\n",
    "\n",
    "lasso_test_predictions = lasso_cv_model.predict(scaled_X_test)\n",
    "\n",
    "lasso_cv_optimal_alpha =lasso_cv_model.alpha_\n",
    "print(\"The Optimal Alpha is :\", lasso_cv_model.alpha_)"
   ]
  },
  {
   "cell_type": "code",
   "execution_count": 22,
   "id": "e5e63bf4",
   "metadata": {},
   "outputs": [
    {
     "name": "stdout",
     "output_type": "stream",
     "text": [
      "The Optimal Beta Coefficients Are: \n",
      " [ 5.57656205e+11  0.00000000e+00 -0.00000000e+00 -0.00000000e+00\n",
      " -1.54372176e+11]\n"
     ]
    }
   ],
   "source": [
    "print(\"The Optimal Beta Coefficients Are: \\n\", lasso_cv_model.coef_)"
   ]
  },
  {
   "cell_type": "code",
   "execution_count": 23,
   "id": "1b5da9ab",
   "metadata": {},
   "outputs": [
    {
     "name": "stdout",
     "output_type": "stream",
     "text": [
      "MAE: 791349972082.7164\n",
      "MSE: 1.8889012168608592e+24\n",
      "RMSE: 1374373026823.8167\n"
     ]
    }
   ],
   "source": [
    "evaluate_model(lasso_test_predictions, \"LassoCV Model\")"
   ]
  },
  {
   "cell_type": "markdown",
   "id": "3bff91e2",
   "metadata": {},
   "source": [
    "# Polynomial Regression Model"
   ]
  },
  {
   "cell_type": "code",
   "execution_count": 24,
   "id": "55f5a388",
   "metadata": {},
   "outputs": [],
   "source": [
    "from sklearn.preprocessing import PolynomialFeatures\n",
    "\n",
    "test_rmse_errors = []\n",
    "\n",
    "\n",
    "for degree in range(1,10):\n",
    "    polynomial_converter = PolynomialFeatures(degree=degree, include_bias=False)\n",
    "    poly_features = polynomial_converter.fit_transform(X)\n",
    "    \n",
    "    X_train, X_test, y_train, y_test = train_test_split(poly_features, y, test_size=0.3, random_state=42)\n",
    "    \n",
    "    scaler = StandardScaler()\n",
    "    scaler.fit(X_train)\n",
    "    scaled_X_train = scaler.transform(X_train)\n",
    "    scaled_X_test = scaler.transform(X_test)\n",
    "\n",
    "    model = LinearRegression()\n",
    "    model.fit(scaled_X_train, y_train)\n",
    "    \n",
    "    \n",
    "    test_predictions = model.predict(scaled_X_test)\n",
    "    \n",
    "\n",
    "    test_rmse = np.sqrt(mean_squared_error(y_test, test_predictions))\n",
    "    test_rmse_errors.append(test_rmse)"
   ]
  },
  {
   "cell_type": "markdown",
   "id": "53742535",
   "metadata": {},
   "source": [
    "# Preform Elbow Method to Check Which Drgee is the Optimal Drgee"
   ]
  },
  {
   "cell_type": "code",
   "execution_count": 25,
   "id": "e0b49421",
   "metadata": {},
   "outputs": [
    {
     "data": {
      "text/plain": [
       "[1287737326127.812,\n",
       " 30817067638426.773,\n",
       " 3.3304568626341116e+16,\n",
       " 3.376912391320845e+19,\n",
       " 8.609679703264621e+18,\n",
       " 9.074352183663444e+18,\n",
       " 8.151528695435143e+18,\n",
       " 7.62157828511403e+18,\n",
       " 6.779274101056103e+18]"
      ]
     },
     "execution_count": 25,
     "metadata": {},
     "output_type": "execute_result"
    }
   ],
   "source": [
    "test_rmse_errors"
   ]
  },
  {
   "cell_type": "code",
   "execution_count": 26,
   "id": "572c967b",
   "metadata": {},
   "outputs": [
    {
     "data": {
      "image/png": "[encoded data removed]",
      "text/plain": [
       "<Figure size 640x480 with 1 Axes>"
      ]
     },
     "metadata": {},
     "output_type": "display_data"
    }
   ],
   "source": [
    "plt.plot(range(1,4), test_rmse_errors[:3], label='Test RMSE')\n",
    "\n",
    "plt.ylabel('RMSE')\n",
    "plt.xlabel('Degree of poly')\n",
    "plt.legend()\n",
    "plt.show()"
   ]
  },
  {
   "cell_type": "markdown",
   "id": "2efbbb78",
   "metadata": {},
   "source": [
    "# We Found that the optimal dgree is 1"
   ]
  },
  {
   "cell_type": "code",
   "execution_count": 27,
   "id": "95436c1f",
   "metadata": {},
   "outputs": [
    {
     "data": {
      "text/plain": [
       "array([ 7.72163391e+11,  8.28141523e+11,  6.33509298e+11,  5.94066694e+11,\n",
       "       -1.72734097e+11,  7.19678137e+12,  6.60643913e+11,  8.07137290e+11,\n",
       "        5.46249869e+11,  3.23543282e+11,  4.63722009e+11,  4.02554208e+11,\n",
       "        5.86676836e+11,  8.07640259e+11,  6.69519760e+11,  1.05122364e+11,\n",
       "        8.48514591e+11,  5.18545535e+11,  7.06450329e+11, -1.36470208e+10,\n",
       "        3.38465494e+11,  8.22407008e+11,  8.30252750e+11,  8.54992593e+11,\n",
       "        4.89025670e+11,  7.50864404e+11,  8.37324597e+11,  4.02692706e+11,\n",
       "        1.35872806e+12, -5.29665921e+10, -3.39087536e+11,  5.89517477e+11,\n",
       "        8.06091344e+11,  7.29603977e+11,  8.04352915e+12,  7.30765503e+11,\n",
       "        3.23632033e+11,  1.77687765e+12,  1.13709374e+12,  5.60964374e+11,\n",
       "        6.77960009e+11,  7.23289912e+11,  9.20887103e+11,  8.41261032e+11,\n",
       "        5.00079697e+11,  7.52881383e+11,  2.04433359e+11,  7.85895508e+11,\n",
       "        9.73661439e+11,  9.28318675e+11,  9.12401274e+11])"
      ]
     },
     "execution_count": 27,
     "metadata": {},
     "output_type": "execute_result"
    }
   ],
   "source": [
    "polynomial_converter = PolynomialFeatures(degree=1, include_bias=False)\n",
    "polynomial_converter.fit(X)\n",
    "poly_features = polynomial_converter.transform(X)\n",
    "\n",
    "X_train, X_test, y_train, y_test = train_test_split(poly_features, y, test_size=0.3, random_state=42)\n",
    "\n",
    "scaler = StandardScaler()\n",
    "scaler.fit(X_train)\n",
    "scaled_X_train = scaler.transform(X_train)\n",
    "scaled_X_test = scaler.transform(X_test)\n",
    "\n",
    "model = LinearRegression()\n",
    "model.fit(scaled_X_train, y_train)\n",
    "    \n",
    "test_predictions = model.predict(scaled_X_test)\n",
    "test_predictions"
   ]
  },
  {
   "cell_type": "code",
   "execution_count": 28,
   "id": "4ce99cdd",
   "metadata": {},
   "outputs": [
    {
     "name": "stdout",
     "output_type": "stream",
     "text": [
      "The Optimal Beta Coefficients Are: \n",
      " [ 1.40978629e+12  9.95860698e+09 -7.89181817e+11 -5.60186085e+10\n",
      " -2.88508506e+11]\n"
     ]
    }
   ],
   "source": [
    "print(\"The Optimal Beta Coefficients Are: \\n\", model.coef_)"
   ]
  },
  {
   "cell_type": "code",
   "execution_count": 29,
   "id": "13c9b51e",
   "metadata": {},
   "outputs": [
    {
     "name": "stdout",
     "output_type": "stream",
     "text": [
      "MAE: 723618305740.744\n",
      "MSE: 1.658267421102807e+24\n",
      "RMSE: 1287737326127.812\n"
     ]
    }
   ],
   "source": [
    "evaluate_model(test_predictions, \"Polynomial Regression\")"
   ]
  },
  {
   "cell_type": "markdown",
   "id": "65d4799b",
   "metadata": {},
   "source": [
    "# Plot the error of each model"
   ]
  },
  {
   "cell_type": "code",
   "execution_count": 30,
   "id": "6b34e20f",
   "metadata": {},
   "outputs": [
    {
     "data": {
      "image/png": "[encoded data removed]",
      "text/plain": [
       "<Figure size 1000x600 with 1 Axes>"
      ]
     },
     "metadata": {},
     "output_type": "display_data"
    }
   ],
   "source": [
    "models = list(rmse_values.keys())\n",
    "rmse_scores = list(rmse_values.values())\n",
    "\n",
    "\n",
    "plt.figure(figsize=(10, 6))\n",
    "plt.bar(models, rmse_scores)\n",
    "plt.xlabel(\"Model\")\n",
    "plt.ylabel(\"RMSE\")\n",
    "plt.title(\"Model Comparison\")\n",
    "plt.xticks(rotation=45)\n",
    "plt.show()"
   ]
  },
  {
   "cell_type": "markdown",
   "id": "4712f52d",
   "metadata": {},
   "source": [
    "# Train And Export the best model"
   ]
  },
  {
   "cell_type": "code",
   "execution_count": 31,
   "id": "84e35e9f",
   "metadata": {},
   "outputs": [
    {
     "data": {
      "text/plain": [
       "array([ 1.31943903e+12,  9.78434797e+10, -8.10741490e+11, -6.51405602e+09,\n",
       "       -2.61755936e+11])"
      ]
     },
     "execution_count": 31,
     "metadata": {},
     "output_type": "execute_result"
    }
   ],
   "source": [
    "X_train, X_test, y_train, y_test = train_test_split(X, y, test_size=0.3, random_state=42)\n",
    "\n",
    "\n",
    "scaler = StandardScaler()\n",
    "scaler.fit(X_train)\n",
    "\n",
    "\n",
    "scaled_X = scaler.transform(X)\n",
    "final_model = LinearRegression()\n",
    "final_model.fit(scaled_X, y)\n",
    "final_model.coef_"
   ]
  },
  {
   "cell_type": "code",
   "execution_count": 32,
   "id": "b3110f7b",
   "metadata": {},
   "outputs": [
    {
     "data": {
      "text/plain": [
       "['covid_scaler.joblib']"
      ]
     },
     "execution_count": 32,
     "metadata": {},
     "output_type": "execute_result"
    }
   ],
   "source": [
    "from joblib import dump,load\n",
    "dump(final_model, \"final_covid_model.joblib\")\n",
    "dump(scaler, \"covid_scaler.joblib\")"
   ]
  },
  {
   "cell_type": "code",
   "execution_count": 33,
   "id": "764d2507",
   "metadata": {},
   "outputs": [],
   "source": [
    "loaded_model = load(\"final_covid_model.joblib\")\n",
    "loaded_scaler = load(\"covid_scaler.joblib\")"
   ]
  },
  {
   "cell_type": "code",
   "execution_count": 34,
   "id": "b8448b4f",
   "metadata": {},
   "outputs": [
    {
     "data": {
      "text/plain": [
       "array([ 1.31943903e+12,  9.78434797e+10, -8.10741490e+11, -6.51405602e+09,\n",
       "       -2.61755936e+11])"
      ]
     },
     "execution_count": 34,
     "metadata": {},
     "output_type": "execute_result"
    }
   ],
   "source": [
    "loaded_model.coef_"
   ]
  }
 ],
 "metadata": {
  "kernelspec": {
   "display_name": "Python 3 (ipykernel)",
   "language": "python",
   "name": "python3"
  },
  "language_info": {
   "codemirror_mode": {
    "name": "ipython",
    "version": 3
   },
   "file_extension": ".py",
   "mimetype": "text/x-python",
   "name": "python",
   "nbconvert_exporter": "python",
   "pygments_lexer": "ipython3",
   "version": "3.11.3"
  }
 },
 "nbformat": 4,
 "nbformat_minor": 5
}
